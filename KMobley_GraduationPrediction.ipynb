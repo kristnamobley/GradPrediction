{
 "cells": [
  {
   "cell_type": "code",
   "execution_count": null,
   "metadata": {},
   "outputs": [],
   "source": [
    "from sqlalchemy import create_engine\n",
    "import pandas as pd\n",
    "import matplotlib.pyplot as plt\n",
    "%matplotlib inline\n",
    "import seaborn as sns     \n",
    "from sklearn.model_selection import train_test_split, cross_val_score\n",
    "from sklearn.model_selection import GridSearchCV\n",
    "from sklearn.tree import DecisionTreeClassifier\n",
    "from sklearn.preprocessing import StandardScaler, OneHotEncoder\n"
   ]
  },
  {
   "cell_type": "code",
   "execution_count": null,
   "metadata": {},
   "outputs": [],
   "source": [
    "#Upload table from SQL, connect to database\n",
    "\n",
    "conn_str = (username, password)\n",
    "\n",
    "try:\n",
    "    # Create the SQLAlchemy engine\n",
    "    engine = create_engine(conn_str)\n",
    "\n",
    "    # Define your SQL query to select data from a table\n",
    "    table_name = 'View' \n",
    "    query = f\"SELECT * FROM {table_name}\"\n",
    "    \n",
    "    # Load data into a DataFrame\n",
    "    df_original= pd.read_sql(query, engine)\n",
    "    \n",
    "    # Close the connection\n",
    "    #conn.close()\n",
    "except Exception as ex:\n",
    "    print(\"Error:\", ex)"
   ]
  },
  {
   "cell_type": "code",
   "execution_count": null,
   "metadata": {},
   "outputs": [],
   "source": [
    "df= df_original.copy()"
   ]
  },
  {
   "cell_type": "markdown",
   "metadata": {},
   "source": [
    "# Exploratory Data Analysis"
   ]
  },
  {
   "cell_type": "code",
   "execution_count": null,
   "metadata": {},
   "outputs": [],
   "source": [
    "#check top rows, shape, and info of table\n",
    "df.head()\n",
    "df.shape\n",
    "df.info()"
   ]
  },
  {
   "cell_type": "code",
   "execution_count": null,
   "metadata": {},
   "outputs": [],
   "source": [
    "#convert columns to integer type\n",
    "columns_to_convert = ['Column4','Column5'] \n",
    "df[columns_to_convert] = df[columns_to_convert].astype(int)"
   ]
  },
  {
   "cell_type": "code",
   "execution_count": null,
   "metadata": {},
   "outputs": [],
   "source": [
    "df.describe().T"
   ]
  },
  {
   "cell_type": "code",
   "execution_count": null,
   "metadata": {},
   "outputs": [],
   "source": [
    "#check for missing values\n",
    "df.isna().sum()"
   ]
  },
  {
   "cell_type": "markdown",
   "metadata": {},
   "source": [
    "# Mapping and preparing data"
   ]
  },
  {
   "cell_type": "code",
   "execution_count": null,
   "metadata": {},
   "outputs": [],
   "source": [
    "#mapping column from Y/N to 1/0\n",
    "df['Column2'] = df['Column2'].map({'Y': 1, 'N': 0})"
   ]
  },
  {
   "cell_type": "code",
   "execution_count": null,
   "metadata": {},
   "outputs": [],
   "source": [
    "df = pd.get_dummies(df, columns=[\"Column10\"], drop_first=True)\n",
    "\n",
    "e_columns = df.columns[df.columns.str.startswith(\"E_\")]\n",
    "df[e_columns] = df[e_columns].astype(int)"
   ]
  },
  {
   "cell_type": "code",
   "execution_count": null,
   "metadata": {},
   "outputs": [],
   "source": [
    "#Creating a new column: AvgCredits by combining credits/4\n",
    "df['TotalCredits'] = df['Column6'] + df['Column7'] + df['Column8']+ df_map['Column9']\n",
    "df['AvgCredit'] = df['TotalCredits'] / 4"
   ]
  },
  {
   "cell_type": "code",
   "execution_count": null,
   "metadata": {},
   "outputs": [],
   "source": [
    "conditions = [\n",
    "    (df['Column1'].isnull()) & (df[\"AvgCredit\"] == 0),\n",
    "    (df['Column1'].isnull()) & (df[\"AvgCredit\"] > 0) & (df[\"AvgCredit\"] <= 0.3),\n",
    "    (df['Column1'].isnull()) & (df[\"AvgCredit\"] > 0.3) & (df[\"AvgCredit\"] <= 0.6),\n",
    "    (df['Column1'].isnull()) & (df[\"AvgCredit\"] > 0.6) & (df[\"AvgCredit\"] <= 0.9),\n",
    "    (df['Column1'].isnull()) & (df[\"AvgCredit\"] > 0.9)\n",
    "]\n",
    "\n",
    "g_values = [0, 1.0, 2.0, 3.0, 4.0]\n",
    "\n",
    "df['Column1'] = np.select(conditions, g_values, default=df['Column1'])"
   ]
  },
  {
   "cell_type": "code",
   "execution_count": null,
   "metadata": {},
   "outputs": [],
   "source": [
    "# using columns to predict graduation... columns renamed for sensitivity\n",
    "#best columns were chosen from previously checking correlation, and variance factors\n",
    "\n",
    "X = df[['Column1','Column2','Column3','Column4','Column5','Column6','Column7','Column8','Column9','Column10']]"
   ]
  },
  {
   "cell_type": "code",
   "execution_count": null,
   "metadata": {},
   "outputs": [],
   "source": [
    "#scaling columns\n",
    "X.loc[:, ['Column1', 'Column3']] = scaler.transform(X[['Column1', 'Column3']])"
   ]
  },
  {
   "cell_type": "markdown",
   "metadata": {},
   "source": [
    "* Model chosen from previous training then saved"
   ]
  },
  {
   "cell_type": "code",
   "execution_count": null,
   "metadata": {},
   "outputs": [],
   "source": [
    "# balancing weights, best model chosen through previous training of the models\n",
    "#model used on previous data and then saved to use to predict\n",
    "\n",
    "#weights = {\n",
    "#    0: 5.0,  \n",
    "#    1: 4.0,  \n",
    "#    2: 1.0  \n",
    "#}\n",
    "\n",
    "#dt_model = DecisionTreeClassifier(\n",
    "#    max_depth=5,\n",
    "#    class_weight= weights,          \n",
    "#    random_state=42)\n",
    "\n",
    "#dt_model.fit(X_train, y_train)"
   ]
  },
  {
   "cell_type": "code",
   "execution_count": null,
   "metadata": {},
   "outputs": [],
   "source": [
    "#Use model to predict\n",
    "GraduationPredictions = dt_model.predict(X)"
   ]
  },
  {
   "cell_type": "code",
   "execution_count": null,
   "metadata": {},
   "outputs": [],
   "source": [
    "#Output predictions\n",
    "print(GraduationPredictions)"
   ]
  }
 ],
 "metadata": {
  "kernelspec": {
   "display_name": "Python 3",
   "language": "python",
   "name": "python3"
  },
  "language_info": {
   "name": "python",
   "version": "3.10.0"
  }
 },
 "nbformat": 4,
 "nbformat_minor": 2
}
